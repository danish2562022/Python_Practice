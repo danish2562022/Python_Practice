{
  "nbformat": 4,
  "nbformat_minor": 0,
  "metadata": {
    "colab": {
      "name": "Untitled1.ipynb",
      "provenance": [],
      "collapsed_sections": []
    },
    "kernelspec": {
      "name": "python3",
      "display_name": "Python 3"
    }
  },
  "cells": [
    {
      "cell_type": "markdown",
      "metadata": {
        "id": "CFLryum3IEXj"
      },
      "source": [
        "Write a function that inputs a number and prints the multiplication table of that number"
      ]
    },
    {
      "cell_type": "code",
      "metadata": {
        "id": "QQPPePQGH-Zd",
        "outputId": "80bd2b53-07a3-498d-be49-4107377d56c1",
        "colab": {
          "base_uri": "https://localhost:8080/",
          "height": 212
        }
      },
      "source": [
        "def mult(x):\n",
        "    for i in range(1,11):\n",
        "        print(x*i)\n",
        "\n",
        "x=int(input(\"Enter a number\"))\n",
        "mult(x)"
      ],
      "execution_count": 4,
      "outputs": [
        {
          "output_type": "stream",
          "text": [
            "Enter a number10\n",
            "10\n",
            "20\n",
            "30\n",
            "40\n",
            "50\n",
            "60\n",
            "70\n",
            "80\n",
            "90\n",
            "100\n"
          ],
          "name": "stdout"
        }
      ]
    },
    {
      "cell_type": "markdown",
      "metadata": {
        "id": "ygoOUo_ZOG5F"
      },
      "source": [
        "2. Write a program to print twin primes less than 1000. If two consecutive odd numbers are\n",
        "both prime then they are known as twin primes"
      ]
    },
    {
      "cell_type": "code",
      "metadata": {
        "id": "9nmk4nVdIA21",
        "outputId": "43d99972-3b52-4a9c-8a48-9925bab07061",
        "colab": {
          "base_uri": "https://localhost:8080/",
          "height": 1000
        }
      },
      "source": [
        "def twinprime():\n",
        "    for k in range(3,1000,2):\n",
        "        y=0\n",
        "        for i in range(2,k//2+1):\n",
        "            if k%i==0:\n",
        "                y=1\n",
        "                exit\n",
        "            \n",
        "        if y!=1:\n",
        "            for i in range(2,((k+2)//2)+1):\n",
        "                if (k+2)%i==0:\n",
        "                    Y=1\n",
        "                    exit\n",
        "        if y!=1:\n",
        "            print([k,k+2])\n",
        "                \n",
        "            \n",
        "\n",
        "\n",
        "            \n",
        "twinprime()"
      ],
      "execution_count": 16,
      "outputs": [
        {
          "output_type": "stream",
          "text": [
            "[3, 5]\n",
            "[5, 7]\n",
            "[7, 9]\n",
            "[11, 13]\n",
            "[13, 15]\n",
            "[17, 19]\n",
            "[19, 21]\n",
            "[23, 25]\n",
            "[29, 31]\n",
            "[31, 33]\n",
            "[37, 39]\n",
            "[41, 43]\n",
            "[43, 45]\n",
            "[47, 49]\n",
            "[53, 55]\n",
            "[59, 61]\n",
            "[61, 63]\n",
            "[67, 69]\n",
            "[71, 73]\n",
            "[73, 75]\n",
            "[79, 81]\n",
            "[83, 85]\n",
            "[89, 91]\n",
            "[97, 99]\n",
            "[101, 103]\n",
            "[103, 105]\n",
            "[107, 109]\n",
            "[109, 111]\n",
            "[113, 115]\n",
            "[127, 129]\n",
            "[131, 133]\n",
            "[137, 139]\n",
            "[139, 141]\n",
            "[149, 151]\n",
            "[151, 153]\n",
            "[157, 159]\n",
            "[163, 165]\n",
            "[167, 169]\n",
            "[173, 175]\n",
            "[179, 181]\n",
            "[181, 183]\n",
            "[191, 193]\n",
            "[193, 195]\n",
            "[197, 199]\n",
            "[199, 201]\n",
            "[211, 213]\n",
            "[223, 225]\n",
            "[227, 229]\n",
            "[229, 231]\n",
            "[233, 235]\n",
            "[239, 241]\n",
            "[241, 243]\n",
            "[251, 253]\n",
            "[257, 259]\n",
            "[263, 265]\n",
            "[269, 271]\n",
            "[271, 273]\n",
            "[277, 279]\n",
            "[281, 283]\n",
            "[283, 285]\n",
            "[293, 295]\n",
            "[307, 309]\n",
            "[311, 313]\n",
            "[313, 315]\n",
            "[317, 319]\n",
            "[331, 333]\n",
            "[337, 339]\n",
            "[347, 349]\n",
            "[349, 351]\n",
            "[353, 355]\n",
            "[359, 361]\n",
            "[367, 369]\n",
            "[373, 375]\n",
            "[379, 381]\n",
            "[383, 385]\n",
            "[389, 391]\n",
            "[397, 399]\n",
            "[401, 403]\n",
            "[409, 411]\n",
            "[419, 421]\n",
            "[421, 423]\n",
            "[431, 433]\n",
            "[433, 435]\n",
            "[439, 441]\n",
            "[443, 445]\n",
            "[449, 451]\n",
            "[457, 459]\n",
            "[461, 463]\n",
            "[463, 465]\n",
            "[467, 469]\n",
            "[479, 481]\n",
            "[487, 489]\n",
            "[491, 493]\n",
            "[499, 501]\n",
            "[503, 505]\n",
            "[509, 511]\n",
            "[521, 523]\n",
            "[523, 525]\n",
            "[541, 543]\n",
            "[547, 549]\n",
            "[557, 559]\n",
            "[563, 565]\n",
            "[569, 571]\n",
            "[571, 573]\n",
            "[577, 579]\n",
            "[587, 589]\n",
            "[593, 595]\n",
            "[599, 601]\n",
            "[601, 603]\n",
            "[607, 609]\n",
            "[613, 615]\n",
            "[617, 619]\n",
            "[619, 621]\n",
            "[631, 633]\n",
            "[641, 643]\n",
            "[643, 645]\n",
            "[647, 649]\n",
            "[653, 655]\n",
            "[659, 661]\n",
            "[661, 663]\n",
            "[673, 675]\n",
            "[677, 679]\n",
            "[683, 685]\n",
            "[691, 693]\n",
            "[701, 703]\n",
            "[709, 711]\n",
            "[719, 721]\n",
            "[727, 729]\n",
            "[733, 735]\n",
            "[739, 741]\n",
            "[743, 745]\n",
            "[751, 753]\n",
            "[757, 759]\n",
            "[761, 763]\n",
            "[769, 771]\n",
            "[773, 775]\n",
            "[787, 789]\n",
            "[797, 799]\n",
            "[809, 811]\n",
            "[811, 813]\n",
            "[821, 823]\n",
            "[823, 825]\n",
            "[827, 829]\n",
            "[829, 831]\n",
            "[839, 841]\n",
            "[853, 855]\n",
            "[857, 859]\n",
            "[859, 861]\n",
            "[863, 865]\n",
            "[877, 879]\n",
            "[881, 883]\n",
            "[883, 885]\n",
            "[887, 889]\n",
            "[907, 909]\n",
            "[911, 913]\n",
            "[919, 921]\n",
            "[929, 931]\n",
            "[937, 939]\n",
            "[941, 943]\n",
            "[947, 949]\n",
            "[953, 955]\n",
            "[967, 969]\n",
            "[971, 973]\n",
            "[977, 979]\n",
            "[983, 985]\n",
            "[991, 993]\n",
            "[997, 999]\n"
          ],
          "name": "stdout"
        }
      ]
    },
    {
      "cell_type": "markdown",
      "metadata": {
        "id": "5YlaRk-HvCGQ"
      },
      "source": [
        "Write a program to find out the prime factors of a number. Example: prime factors of 56 -\n",
        "2, 2, 2, 7"
      ]
    },
    {
      "cell_type": "code",
      "metadata": {
        "id": "LuGKJfSwN-xn",
        "outputId": "52680c00-1a78-4740-9bb9-853a491f9e57",
        "colab": {
          "base_uri": "https://localhost:8080/",
          "height": 52
        }
      },
      "source": [
        "\n",
        "def primefactor(x):\n",
        "    isdivisible=0\n",
        "    if x>=2:\n",
        "        for i in range(2,x//2+1):\n",
        "            if(x%i==0):\n",
        "                isdivisible=1\n",
        "    if isdivisible==0:\n",
        "        lst.append(x)            \n",
        "lst=[]\n",
        "num=int(input(\"Enter number :\"))\n",
        "for i in range(1,int(num/2)+1):\n",
        "    if (num%i==0):\n",
        "        primefactor(i)\n",
        "print(lst)"
      ],
      "execution_count": 4,
      "outputs": [
        {
          "output_type": "stream",
          "text": [
            "Enter number :56\n",
            "[1, 2, 7]\n"
          ],
          "name": "stdout"
        }
      ]
    },
    {
      "cell_type": "markdown",
      "metadata": {
        "id": "ZZGwQOC8wrcW"
      },
      "source": [
        "Q. Write a program to implement these formulae of permutations and combinations.\n",
        "Number of permutations of n objects taken r at a time: p(n, r) = n! / (n-r)!. Number of\n",
        "combinations of n objects taken r at a time is: c(n, r) = n! / (r!*(n-r)!) = p(n,r) / r!"
      ]
    },
    {
      "cell_type": "code",
      "metadata": {
        "id": "HErvfKtNbBwq",
        "outputId": "9ade7e43-a4fb-49a9-d891-f05f237144ec",
        "colab": {
          "base_uri": "https://localhost:8080/",
          "height": 87
        }
      },
      "source": [
        "def fact(num):\n",
        "    \n",
        "    \"\"\"\n",
        "    This function gives factorial\n",
        "    \"\"\"\n",
        "    \n",
        "    if num<=1:\n",
        "        return 1\n",
        "    else:\n",
        "        m= num*fact(num-1)\n",
        "    return m\n",
        "\n",
        "\n",
        "def permutation(k,m):\n",
        "    \"\"\"\n",
        "    This function compute permutation\n",
        "    \"\"\"\n",
        "    return(fact(k)/fact(k-m))\n",
        "\n",
        "def combination(s,t):\n",
        "    \"\"\"\n",
        "    This function compute combination\n",
        "    \"\"\"\n",
        "    return(permutation(s,t)/fact(t))\n",
        "   \n",
        "\n",
        "n=int(input(\"Enter the value of n:\"))\n",
        "r=int(input(\"Enter the value of r:\"))\n",
        "\n",
        "print(\"Number of permutations of n objects taken r at a time is: {}\".format(permutation(n,r)))\n",
        "print(\"Number of combinations of n objects taken r at a time is: {}\".format(combination(n,r)))"
      ],
      "execution_count": 5,
      "outputs": [
        {
          "output_type": "stream",
          "text": [
            "Enter the value of n:3\n",
            "Enter the value of r:3\n",
            "Number of permutations of n objects taken r at a time is: 6.0\n",
            "Number of combinations of n objects taken r at a time is: 1.0\n"
          ],
          "name": "stdout"
        }
      ]
    },
    {
      "cell_type": "markdown",
      "metadata": {
        "id": "UigS0w0kxSlG"
      },
      "source": [
        "Q5).Write a function that converts a decimal number to binary number"
      ]
    },
    {
      "cell_type": "code",
      "metadata": {
        "id": "lNpCUn-fxJEf",
        "outputId": "2bca128c-bbf1-46c0-f107-63ccbeeefb2e",
        "colab": {
          "base_uri": "https://localhost:8080/",
          "height": 34
        }
      },
      "source": [
        "def  conversion(n):\n",
        "    lst=[]\n",
        "    while n>=1:\n",
        "        r=int(n%2)\n",
        "        lst.append(r)\n",
        "        n=n//2\n",
        "    lst.reverse()\n",
        "    print(lst)\n",
        "conversion(50)\n"
      ],
      "execution_count": 14,
      "outputs": [
        {
          "output_type": "stream",
          "text": [
            "[1, 1, 0, 0, 1, 0]\n"
          ],
          "name": "stdout"
        }
      ]
    },
    {
      "cell_type": "markdown",
      "metadata": {
        "id": "XxzB45D9yrFW"
      },
      "source": [
        "Q6). Write a function cubesum() that accepts an integer and returns the sum of the cubes of individual digits of that number. Use this function to make functions PrintArmstrong() and isArmstrong() to print Armstrong numbers and to find whether is an Armstrong number."
      ]
    },
    {
      "cell_type": "code",
      "metadata": {
        "id": "kN6_KnZ1xe5Q",
        "outputId": "df74ded4-fbf0-4e96-cf63-ae786232308f",
        "colab": {
          "base_uri": "https://localhost:8080/",
          "height": 158
        }
      },
      "source": [
        "def cubesum(n):\n",
        "    \n",
        "    \"\"\"\n",
        "    This function will returns sum of cubes of individual digits\n",
        "    \"\"\"\n",
        "    x=n\n",
        "    sum=0\n",
        "    \n",
        "    while n!=0:\n",
        "        r=n%10\n",
        "        sum+=(r**3)\n",
        "        n=int(n/10)\n",
        "    return(sum)\n",
        "def printarmstrong():\n",
        "    \"\"\"\n",
        "    This function print all armstrong number within a given range\n",
        "    \"\"\"\n",
        "    print(\"List of armstrong number between 0 to 1000\")\n",
        "    for i in range(1001):\n",
        "        x=cubesum(i)\n",
        "        if(x==i):\n",
        "            print(i)\n",
        "def isArmstrong(n):\n",
        "    \"\"\"\n",
        "    This function tells whether the number is armstrong or not\n",
        "    \"\"\"\n",
        "    num=cubesum(n)\n",
        "    if num==n:\n",
        "        print(\"{} is an Armstrong\".format(n))\n",
        "    \n",
        "\n",
        "printarmstrong()\n",
        "isArmstrong(153)\n",
        "\n",
        "        \n",
        "        \n",
        "        \n",
        "    \n",
        "    \n",
        "    \n"
      ],
      "execution_count": 16,
      "outputs": [
        {
          "output_type": "stream",
          "text": [
            "List of armstrong number between 0 to 1000\n",
            "0\n",
            "1\n",
            "153\n",
            "370\n",
            "371\n",
            "407\n",
            "153 is an Armstrong\n"
          ],
          "name": "stdout"
        }
      ]
    },
    {
      "cell_type": "markdown",
      "metadata": {
        "id": "xflXZLMky_us"
      },
      "source": [
        "Q7). Write a function prodDigits() that inputs a number and returns the product of digits of that number."
      ]
    },
    {
      "cell_type": "code",
      "metadata": {
        "id": "-o2kGtqlzB2i",
        "outputId": "598dfa91-37a9-4fe2-9b19-ecf788c1beb0",
        "colab": {
          "base_uri": "https://localhost:8080/",
          "height": 52
        }
      },
      "source": [
        "def prodDigits(n):\n",
        "    \n",
        "    \"\"\"\n",
        "    This function gives product of all digits of number\n",
        "    \"\"\"\n",
        "    \n",
        "    product=1\n",
        "    \n",
        "    while n!=0:\n",
        "        r=n%10\n",
        "        product*=r\n",
        "        \n",
        "        n=int(n/10)\n",
        "    return(product)\n",
        "\n",
        "num=int(input(\"Enter number: \"))\n",
        "print(\"Product of Digits of {0} is {1}\".format(num,prodDigits(num)))"
      ],
      "execution_count": 19,
      "outputs": [
        {
          "output_type": "stream",
          "text": [
            "Enter number: 504\n",
            "Product of Digits of 504 is 0\n"
          ],
          "name": "stdout"
        }
      ]
    },
    {
      "cell_type": "markdown",
      "metadata": {
        "id": "Tp8wAik0y1bL"
      },
      "source": [
        "Q8). If all digits of a number n are multiplied by each other repeating with the product, the one digit number obtained at last is called the multiplicative digital root of n. The number of times digits need to be multiplied to reach one digit is called the multiplicative persistance of n. Example: 86 -> 48 -> 32 -> 6 (MDR 6, MPersistence 3) 341 -> 12->2 (MDR 2, MPersistence 2) Using the function prodDigits() of previous exercise write functions MDR() and MPersistence() that input a number and return its multiplicative digital root and multiplicative persistence respectively"
      ]
    },
    {
      "cell_type": "code",
      "metadata": {
        "id": "xvJ7-MyjyuAM",
        "outputId": "a8732158-6d2d-4928-a627-454057c1783f",
        "colab": {
          "base_uri": "https://localhost:8080/",
          "height": 70
        }
      },
      "source": [
        "def MDR(n):\n",
        "    \"\"\"\n",
        "    This function gives Multiplicative digital root of n\n",
        "    \"\"\"\n",
        "    \n",
        "    while n>=10:\n",
        "        n=prodDigits(n)\n",
        "    return(n)\n",
        "        \n",
        "    \n",
        "def Mpersistence(n):\n",
        "    \n",
        "   \n",
        "        \n",
        "        \"\"\"\n",
        "        This function gives  of Multiplicative persistence of n\n",
        "        \"\"\"\n",
        "        i=0\n",
        "        while n>=10:\n",
        "            n=prodDigits(n)\n",
        "            i+=1\n",
        "        return(i)\n",
        "\n",
        "\n",
        "num=int(input(\"Input a number to get its multiplicative digital root and multiplicative persistence  \"))\n",
        "print(\"Multiplicative digital root of {0} is {1}\".format(num,MDR(num)))\n",
        "print(\"Multiplicative persistance of {0} is {1}\".format(num,Mpersistence(num)))"
      ],
      "execution_count": 20,
      "outputs": [
        {
          "output_type": "stream",
          "text": [
            "Input a number to get its multiplicative digital root and multiplicative persistence  24\n",
            "Multiplicative digital root of 24 is 8\n",
            "Multiplicative persistance of 24 is 1\n"
          ],
          "name": "stdout"
        }
      ]
    },
    {
      "cell_type": "code",
      "metadata": {
        "id": "frvx1visy6D7"
      },
      "source": [
        ""
      ],
      "execution_count": null,
      "outputs": []
    }
  ]
}