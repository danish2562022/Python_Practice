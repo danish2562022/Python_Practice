{
  "nbformat": 4,
  "nbformat_minor": 0,
  "metadata": {
    "colab": {
      "name": "Untitled1.ipynb",
      "provenance": [],
      "collapsed_sections": []
    },
    "kernelspec": {
      "name": "python3",
      "display_name": "Python 3"
    }
  },
  "cells": [
    {
      "cell_type": "markdown",
      "metadata": {
        "id": "CFLryum3IEXj"
      },
      "source": [
        "Write a function that inputs a number and prints the multiplication table of that number"
      ]
    },
    {
      "cell_type": "code",
      "metadata": {
        "id": "QQPPePQGH-Zd",
        "outputId": "80bd2b53-07a3-498d-be49-4107377d56c1",
        "colab": {
          "base_uri": "https://localhost:8080/",
          "height": 212
        }
      },
      "source": [
        "def mult(x):\n",
        "    for i in range(1,11):\n",
        "        print(x*i)\n",
        "\n",
        "x=int(input(\"Enter a number\"))\n",
        "mult(x)"
      ],
      "execution_count": 4,
      "outputs": [
        {
          "output_type": "stream",
          "text": [
            "Enter a number10\n",
            "10\n",
            "20\n",
            "30\n",
            "40\n",
            "50\n",
            "60\n",
            "70\n",
            "80\n",
            "90\n",
            "100\n"
          ],
          "name": "stdout"
        }
      ]
    },
    {
      "cell_type": "markdown",
      "metadata": {
        "id": "ygoOUo_ZOG5F"
      },
      "source": [
        "2. Write a program to print twin primes less than 1000. If two consecutive odd numbers are\n",
        "both prime then they are known as twin primes"
      ]
    },
    {
      "cell_type": "code",
      "metadata": {
        "id": "9nmk4nVdIA21",
        "outputId": "43d99972-3b52-4a9c-8a48-9925bab07061",
        "colab": {
          "base_uri": "https://localhost:8080/",
          "height": 1000
        }
      },
      "source": [
        "def twinprime():\n",
        "    for k in range(3,1000,2):\n",
        "        y=0\n",
        "        for i in range(2,k//2+1):\n",
        "            if k%i==0:\n",
        "                y=1\n",
        "                exit\n",
        "            \n",
        "        if y!=1:\n",
        "            for i in range(2,((k+2)//2)+1):\n",
        "                if (k+2)%i==0:\n",
        "                    Y=1\n",
        "                    exit\n",
        "        if y!=1:\n",
        "            print([k,k+2])\n",
        "                \n",
        "            \n",
        "\n",
        "\n",
        "            \n",
        "twinprime()"
      ],
      "execution_count": 16,
      "outputs": [
        {
          "output_type": "stream",
          "text": [
            "[3, 5]\n",
            "[5, 7]\n",
            "[7, 9]\n",
            "[11, 13]\n",
            "[13, 15]\n",
            "[17, 19]\n",
            "[19, 21]\n",
            "[23, 25]\n",
            "[29, 31]\n",
            "[31, 33]\n",
            "[37, 39]\n",
            "[41, 43]\n",
            "[43, 45]\n",
            "[47, 49]\n",
            "[53, 55]\n",
            "[59, 61]\n",
            "[61, 63]\n",
            "[67, 69]\n",
            "[71, 73]\n",
            "[73, 75]\n",
            "[79, 81]\n",
            "[83, 85]\n",
            "[89, 91]\n",
            "[97, 99]\n",
            "[101, 103]\n",
            "[103, 105]\n",
            "[107, 109]\n",
            "[109, 111]\n",
            "[113, 115]\n",
            "[127, 129]\n",
            "[131, 133]\n",
            "[137, 139]\n",
            "[139, 141]\n",
            "[149, 151]\n",
            "[151, 153]\n",
            "[157, 159]\n",
            "[163, 165]\n",
            "[167, 169]\n",
            "[173, 175]\n",
            "[179, 181]\n",
            "[181, 183]\n",
            "[191, 193]\n",
            "[193, 195]\n",
            "[197, 199]\n",
            "[199, 201]\n",
            "[211, 213]\n",
            "[223, 225]\n",
            "[227, 229]\n",
            "[229, 231]\n",
            "[233, 235]\n",
            "[239, 241]\n",
            "[241, 243]\n",
            "[251, 253]\n",
            "[257, 259]\n",
            "[263, 265]\n",
            "[269, 271]\n",
            "[271, 273]\n",
            "[277, 279]\n",
            "[281, 283]\n",
            "[283, 285]\n",
            "[293, 295]\n",
            "[307, 309]\n",
            "[311, 313]\n",
            "[313, 315]\n",
            "[317, 319]\n",
            "[331, 333]\n",
            "[337, 339]\n",
            "[347, 349]\n",
            "[349, 351]\n",
            "[353, 355]\n",
            "[359, 361]\n",
            "[367, 369]\n",
            "[373, 375]\n",
            "[379, 381]\n",
            "[383, 385]\n",
            "[389, 391]\n",
            "[397, 399]\n",
            "[401, 403]\n",
            "[409, 411]\n",
            "[419, 421]\n",
            "[421, 423]\n",
            "[431, 433]\n",
            "[433, 435]\n",
            "[439, 441]\n",
            "[443, 445]\n",
            "[449, 451]\n",
            "[457, 459]\n",
            "[461, 463]\n",
            "[463, 465]\n",
            "[467, 469]\n",
            "[479, 481]\n",
            "[487, 489]\n",
            "[491, 493]\n",
            "[499, 501]\n",
            "[503, 505]\n",
            "[509, 511]\n",
            "[521, 523]\n",
            "[523, 525]\n",
            "[541, 543]\n",
            "[547, 549]\n",
            "[557, 559]\n",
            "[563, 565]\n",
            "[569, 571]\n",
            "[571, 573]\n",
            "[577, 579]\n",
            "[587, 589]\n",
            "[593, 595]\n",
            "[599, 601]\n",
            "[601, 603]\n",
            "[607, 609]\n",
            "[613, 615]\n",
            "[617, 619]\n",
            "[619, 621]\n",
            "[631, 633]\n",
            "[641, 643]\n",
            "[643, 645]\n",
            "[647, 649]\n",
            "[653, 655]\n",
            "[659, 661]\n",
            "[661, 663]\n",
            "[673, 675]\n",
            "[677, 679]\n",
            "[683, 685]\n",
            "[691, 693]\n",
            "[701, 703]\n",
            "[709, 711]\n",
            "[719, 721]\n",
            "[727, 729]\n",
            "[733, 735]\n",
            "[739, 741]\n",
            "[743, 745]\n",
            "[751, 753]\n",
            "[757, 759]\n",
            "[761, 763]\n",
            "[769, 771]\n",
            "[773, 775]\n",
            "[787, 789]\n",
            "[797, 799]\n",
            "[809, 811]\n",
            "[811, 813]\n",
            "[821, 823]\n",
            "[823, 825]\n",
            "[827, 829]\n",
            "[829, 831]\n",
            "[839, 841]\n",
            "[853, 855]\n",
            "[857, 859]\n",
            "[859, 861]\n",
            "[863, 865]\n",
            "[877, 879]\n",
            "[881, 883]\n",
            "[883, 885]\n",
            "[887, 889]\n",
            "[907, 909]\n",
            "[911, 913]\n",
            "[919, 921]\n",
            "[929, 931]\n",
            "[937, 939]\n",
            "[941, 943]\n",
            "[947, 949]\n",
            "[953, 955]\n",
            "[967, 969]\n",
            "[971, 973]\n",
            "[977, 979]\n",
            "[983, 985]\n",
            "[991, 993]\n",
            "[997, 999]\n"
          ],
          "name": "stdout"
        }
      ]
    },
    {
      "cell_type": "markdown",
      "metadata": {
        "id": "5YlaRk-HvCGQ"
      },
      "source": [
        "Write a program to find out the prime factors of a number. Example: prime factors of 56 -\n",
        "2, 2, 2, 7"
      ]
    },
    {
      "cell_type": "code",
      "metadata": {
        "id": "LuGKJfSwN-xn",
        "outputId": "a9d78b61-4dd6-4c02-a1f8-17ddbc3956d9",
        "colab": {
          "base_uri": "https://localhost:8080/",
          "height": 34
        }
      },
      "source": [
        "\n"
      ],
      "execution_count": 9,
      "outputs": [
        {
          "output_type": "execute_result",
          "data": {
            "text/plain": [
              "500"
            ]
          },
          "metadata": {
            "tags": []
          },
          "execution_count": 9
        }
      ]
    },
    {
      "cell_type": "code",
      "metadata": {
        "id": "HErvfKtNbBwq"
      },
      "source": [
        ""
      ],
      "execution_count": null,
      "outputs": []
    }
  ]
}